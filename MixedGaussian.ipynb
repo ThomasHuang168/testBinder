{
 "cells": [
  {
   "cell_type": "markdown",
   "metadata": {},
   "source": [
    "# Other experimental results on mixed gaussian distribution"
   ]
  },
  {
   "cell_type": "code",
   "execution_count": 1,
   "metadata": {
    "scrolled": false
   },
   "outputs": [
    {
     "data": {
      "application/vnd.jupyter.widget-view+json": {
       "model_id": "05c84d26ad8746e6ba227cdfaad4c21a",
       "version_major": 2,
       "version_minor": 0
      },
      "text/plain": [
       "Dropdown(description='Sample size:', layout=Layout(width='400px'), options=(400,), style=DescriptionStyle(desc…"
      ]
     },
     "metadata": {},
     "output_type": "display_data"
    },
    {
     "data": {
      "application/vnd.jupyter.widget-view+json": {
       "model_id": "5c4cadbdf46e4619beb3942cc02b8cfc",
       "version_major": 2,
       "version_minor": 0
      },
      "text/plain": [
       "Dropdown(description='Batch size:', layout=Layout(width='400px'), options=(100, 200), style=DescriptionStyle(d…"
      ]
     },
     "metadata": {},
     "output_type": "display_data"
    },
    {
     "data": {
      "application/vnd.jupyter.widget-view+json": {
       "model_id": "b6b3f92fab214ac7a5ac46c4cbe2cd35",
       "version_major": 2,
       "version_minor": 0
      },
      "text/plain": [
       "Dropdown(description='Rho:', index=3, layout=Layout(width='400px'), options=(0.4, 0.6, 0.8, 0.9), style=Descri…"
      ]
     },
     "metadata": {},
     "output_type": "display_data"
    },
    {
     "data": {
      "application/vnd.jupyter.widget-view+json": {
       "model_id": "2cfb70e3fe074dfd8ce7b6a1955cb8d9",
       "version_major": 2,
       "version_minor": 0
      },
      "text/plain": [
       "FloatText(value=0.01, description='Moving average rate:', layout=Layout(width='400px'), style=DescriptionStyle…"
      ]
     },
     "metadata": {},
     "output_type": "display_data"
    },
    {
     "data": {
      "application/vnd.jupyter.widget-view+json": {
       "model_id": "59f4edb23ed94399832d3dbb8e457c11",
       "version_major": 2,
       "version_minor": 0
      },
      "text/plain": [
       "Button(description='View result', style=ButtonStyle(button_color='lightgreen'))"
      ]
     },
     "metadata": {},
     "output_type": "display_data"
    },
    {
     "data": {
      "application/vnd.jupyter.widget-view+json": {
       "model_id": "d5bf892d72454a18b34fd0871ace6ec0",
       "version_major": 2,
       "version_minor": 0
      },
      "text/plain": [
       "Output()"
      ]
     },
     "metadata": {},
     "output_type": "display_data"
    }
   ],
   "source": [
    "from mixed_gaussian_settings import *"
   ]
  },
  {
   "cell_type": "markdown",
   "metadata": {},
   "source": [
    "## Remarks\n",
    "\n",
    "- The above experiment is estimating Mutual Information(MI) using MI-NEE and MINE with 400 samples of mixed gaussian distributions with rho in between 0.4 and 0.9.\n",
    "- Moving average of 0.01 is applied to both MI estimates to smooth out the jitters. Changing the \"Moving Average\" field to 1 can reveal the real training fluctuations in MI estimation.\n",
    "- The experiments are conducted using two batch sizes (Batch size={100 and 200}). We can see batch size have a stronger influence on training rate of MINE than that in MI-NEE\n",
    "- The experiments are also conducted with four covariance settings (Rho = {0.4, 0.6, 0.8, 0.9}). For Rho = {0.4, 0.6}, MI-NEE reach 90% of ground truth before 5000 iterations while MINE MI estimate does not show significant changes before 25000 iterations. For Rho = {0.8, 0.9}, MI-NEE show a faster growth in the estimate than that of MINE"
   ]
  }
 ],
 "metadata": {
  "kernelspec": {
   "display_name": "Python 3",
   "language": "python",
   "name": "python3"
  },
  "language_info": {
   "codemirror_mode": {
    "name": "ipython",
    "version": 3
   },
   "file_extension": ".py",
   "mimetype": "text/x-python",
   "name": "python",
   "nbconvert_exporter": "python",
   "pygments_lexer": "ipython3",
   "version": "3.7.1"
  }
 },
 "nbformat": 4,
 "nbformat_minor": 2
}
